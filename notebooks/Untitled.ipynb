{
 "cells": [
  {
   "cell_type": "code",
   "execution_count": 8,
   "id": "da0a6205-b737-4aad-9064-4a300b33e665",
   "metadata": {},
   "outputs": [
    {
     "name": "stdout",
     "output_type": "stream",
     "text": [
      "✅ Cleaned column names: ['Date_', 'Close_SPY', 'High_SPY', 'Low_SPY', 'Open_SPY', 'Volume_SPY']\n"
     ]
    }
   ],
   "source": [
    "import pandas as pd\n",
    "\n",
    "df = pd.read_parquet(\"../data/SPY.parquet\")\n",
    "\n",
    "# Clean the weird stringified tuple column names\n",
    "df.columns = [col.replace(\"('\", \"\").replace(\"')\", \"\").replace(\"', '\", \"_\") for col in df.columns]\n",
    "\n",
    "print(\"✅ Cleaned column names:\", df.columns.tolist())\n"
   ]
  },
  {
   "cell_type": "code",
   "execution_count": null,
   "id": "f2e80907-344a-4877-a750-a2f65c869261",
   "metadata": {},
   "outputs": [],
   "source": []
  }
 ],
 "metadata": {
  "kernelspec": {
   "display_name": "Python [conda env:base] *",
   "language": "python",
   "name": "conda-base-py"
  },
  "language_info": {
   "codemirror_mode": {
    "name": "ipython",
    "version": 3
   },
   "file_extension": ".py",
   "mimetype": "text/x-python",
   "name": "python",
   "nbconvert_exporter": "python",
   "pygments_lexer": "ipython3",
   "version": "3.11.7"
  }
 },
 "nbformat": 4,
 "nbformat_minor": 5
}
