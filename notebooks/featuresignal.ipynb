{
 "cells": [
  {
   "cell_type": "code",
   "execution_count": 32,
   "id": "904bec3d-5989-45fa-aaef-fd669b1668b9",
   "metadata": {},
   "outputs": [
    {
     "name": "stdout",
     "output_type": "stream",
     "text": [
      "🔧 Processing SPY\n",
      "✅ Saved to ../data/features_SPY.parquet\n",
      "\n",
      "🔧 Processing QQQ\n",
      "✅ Saved to ../data/features_QQQ.parquet\n",
      "\n",
      "🔧 Processing IWM\n",
      "✅ Saved to ../data/features_IWM.parquet\n",
      "\n",
      "🎉 All tickers processed.\n"
     ]
    }
   ],
   "source": [
    "import pandas as pd\n",
    "import numpy as np\n",
    "import os\n",
    "import ta\n",
    "\n",
    "# Constants\n",
    "DATA_DIR = \"../data\"\n",
    "TICKERS = ['SPY', 'QQQ', 'IWM']\n",
    "SAVE_PREFIX = \"features_\"\n",
    "\n",
    "def compute_features(df):\n",
    "    df = df.copy()\n",
    "\n",
    "    # Fix stringified tuple column names\n",
    "    df.columns = [col.replace(\"('\", \"\").replace(\"')\", \"\").replace(\"', '\", \"_\") for col in df.columns]\n",
    "\n",
    "    # Identify the Date column (now likely 'Date_')\n",
    "    date_col = next((col for col in df.columns if col.lower().startswith(\"date\")), None)\n",
    "    if date_col is None:\n",
    "        raise KeyError(f\"Could not locate date column. Got columns: {df.columns.tolist()}\")\n",
    "\n",
    "    df[date_col] = pd.to_datetime(df[date_col])\n",
    "    df.set_index(date_col, inplace=True)\n",
    "    df.sort_index(inplace=True)\n",
    "\n",
    "    # Choose appropriate price column\n",
    "    price_col = next((c for c in df.columns if \"close\" in c.lower()), None)\n",
    "\n",
    "    # Feature engineering\n",
    "    df['daily_return'] = df[price_col].pct_change()\n",
    "    df['rolling_vol_5'] = df['daily_return'].rolling(window=5).std()\n",
    "    df['sma_10'] = df[price_col].rolling(window=10).mean()\n",
    "    df['sma_20'] = df[price_col].rolling(window=20).mean()\n",
    "    df['rsi_14'] = ta.momentum.RSIIndicator(df[price_col], window=14).rsi()\n",
    "    df['momentum_10'] = df[price_col] - df[price_col].shift(10)\n",
    "\n",
    "    df['ret_1'] = df['daily_return'].shift(1)\n",
    "\n",
    "    df['price_above_sma_10'] = (df[price_col] > df['sma_10']).astype(int)\n",
    "\n",
    "    bb = ta.volatility.BollingerBands(close=df[price_col], window=20, window_dev=2)\n",
    "    df['bb_width'] = bb.bollinger_hband() - bb.bollinger_lband()\n",
    "\n",
    "\n",
    "    df['target'] = (df['daily_return'].shift(-1) > 0).astype(int)\n",
    "    df.dropna(inplace=True)\n",
    "    df.reset_index(inplace=True)\n",
    "\n",
    "    return df\n",
    "\n",
    "# Process each ticker\n",
    "for ticker in TICKERS:\n",
    "    input_path = os.path.join(DATA_DIR, f\"{ticker}.parquet\")\n",
    "    df = pd.read_parquet(input_path)\n",
    "\n",
    "    print(f\"🔧 Processing {ticker}\")\n",
    "    features_df = compute_features(df)\n",
    "\n",
    "    output_path = os.path.join(DATA_DIR, f\"{SAVE_PREFIX}{ticker}.parquet\")\n",
    "    features_df.to_parquet(output_path, index=False)\n",
    "    print(f\"✅ Saved to {output_path}\\n\")\n",
    "\n",
    "print(\"🎉 All tickers processed.\")\n"
   ]
  },
  {
   "cell_type": "code",
   "execution_count": null,
   "id": "23990fac-84d1-433c-9e47-d1a1118764fe",
   "metadata": {},
   "outputs": [],
   "source": []
  },
  {
   "cell_type": "code",
   "execution_count": null,
   "id": "4f4cd403-003f-49aa-8629-2b21a8d9c66a",
   "metadata": {},
   "outputs": [],
   "source": []
  }
 ],
 "metadata": {
  "kernelspec": {
   "display_name": "Python [conda env:base] *",
   "language": "python",
   "name": "conda-base-py"
  },
  "language_info": {
   "codemirror_mode": {
    "name": "ipython",
    "version": 3
   },
   "file_extension": ".py",
   "mimetype": "text/x-python",
   "name": "python",
   "nbconvert_exporter": "python",
   "pygments_lexer": "ipython3",
   "version": "3.11.7"
  }
 },
 "nbformat": 4,
 "nbformat_minor": 5
}
