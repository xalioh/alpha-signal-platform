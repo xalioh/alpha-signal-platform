{
 "cells": [
  {
   "cell_type": "code",
   "execution_count": 2,
   "id": "c3660992-bea9-474f-ad43-a00eaf00c19c",
   "metadata": {},
   "outputs": [
    {
     "name": "stdout",
     "output_type": "stream",
     "text": [
      "📥 Downloading data for: SPY\n"
     ]
    },
    {
     "name": "stderr",
     "output_type": "stream",
     "text": [
      "/var/folders/8g/yvhwyn7j7bl3jrylwnglny2m0000gn/T/ipykernel_48637/308809647.py:19: FutureWarning: YF.download() has changed argument auto_adjust default to True\n",
      "  df = yf.download(ticker, start=start, end=end)\n",
      "[*********************100%***********************]  1 of 1 completed\n"
     ]
    },
    {
     "name": "stdout",
     "output_type": "stream",
     "text": [
      "✅ Saved to ../data/SPY.parquet\n",
      "\n",
      "📥 Downloading data for: QQQ\n"
     ]
    },
    {
     "name": "stderr",
     "output_type": "stream",
     "text": [
      "/var/folders/8g/yvhwyn7j7bl3jrylwnglny2m0000gn/T/ipykernel_48637/308809647.py:19: FutureWarning: YF.download() has changed argument auto_adjust default to True\n",
      "  df = yf.download(ticker, start=start, end=end)\n",
      "[*********************100%***********************]  1 of 1 completed\n",
      "/var/folders/8g/yvhwyn7j7bl3jrylwnglny2m0000gn/T/ipykernel_48637/308809647.py:19: FutureWarning: YF.download() has changed argument auto_adjust default to True\n",
      "  df = yf.download(ticker, start=start, end=end)\n"
     ]
    },
    {
     "name": "stdout",
     "output_type": "stream",
     "text": [
      "✅ Saved to ../data/QQQ.parquet\n",
      "\n",
      "📥 Downloading data for: IWM\n"
     ]
    },
    {
     "name": "stderr",
     "output_type": "stream",
     "text": [
      "[*********************100%***********************]  1 of 1 completed"
     ]
    },
    {
     "name": "stdout",
     "output_type": "stream",
     "text": [
      "✅ Saved to ../data/IWM.parquet\n",
      "\n",
      "✅ All data downloaded and saved.\n"
     ]
    },
    {
     "name": "stderr",
     "output_type": "stream",
     "text": [
      "\n"
     ]
    }
   ],
   "source": [
    "import yfinance as yf\n",
    "import pandas as pd\n",
    "import os\n",
    "from datetime import datetime\n",
    "\n",
    "# Define parameters\n",
    "TICKERS = ['SPY', 'QQQ', 'IWM']\n",
    "START_DATE = '2015-01-01'\n",
    "END_DATE = datetime.today().strftime('%Y-%m-%d')\n",
    "DATA_DIR = '../data'\n",
    "\n",
    "# Ensure the data directory exists\n",
    "os.makedirs(DATA_DIR, exist_ok=True)\n",
    "\n",
    "def fetch_and_save(ticker, start, end, save_dir):\n",
    "    print(f\"📥 Downloading data for: {ticker}\")\n",
    "    df = yf.download(ticker, start=start, end=end)\n",
    "    df.dropna(inplace=True)\n",
    "\n",
    "    # Ensure 'Date' column is present\n",
    "    df.reset_index(inplace=True)  # Makes 'Date' a column\n",
    "\n",
    "    # Save as .parquet\n",
    "    file_path = os.path.join(save_dir, f\"{ticker}.parquet\")\n",
    "    df.to_parquet(file_path, index=False)\n",
    "    print(f\"✅ Saved to {file_path}\\n\")\n",
    "\n",
    "# Loop through tickers\n",
    "for ticker in TICKERS:\n",
    "    fetch_and_save(ticker, START_DATE, END_DATE, DATA_DIR)\n",
    "\n",
    "print(\"✅ All data downloaded and saved.\")\n"
   ]
  },
  {
   "cell_type": "code",
   "execution_count": null,
   "id": "e6bf629e-2520-40f9-baf0-bfe75fb07c31",
   "metadata": {},
   "outputs": [],
   "source": []
  }
 ],
 "metadata": {
  "kernelspec": {
   "display_name": "Python [conda env:base] *",
   "language": "python",
   "name": "conda-base-py"
  },
  "language_info": {
   "codemirror_mode": {
    "name": "ipython",
    "version": 3
   },
   "file_extension": ".py",
   "mimetype": "text/x-python",
   "name": "python",
   "nbconvert_exporter": "python",
   "pygments_lexer": "ipython3",
   "version": "3.11.7"
  }
 },
 "nbformat": 4,
 "nbformat_minor": 5
}
