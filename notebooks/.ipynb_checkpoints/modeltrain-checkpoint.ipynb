{
 "cells": [
  {
   "cell_type": "code",
   "execution_count": 1,
   "id": "47471504-59f4-422c-b279-2c9cd5c61cf4",
   "metadata": {},
   "outputs": [],
   "source": [
    "import pandas as pd\n",
    "import os\n",
    "from sklearn.model_selection import train_test_split\n",
    "from sklearn.ensemble import RandomForestClassifier\n",
    "from sklearn.metrics import classification_report, confusion_matrix\n",
    "import joblib\n",
    "import matplotlib.pyplot as plt\n",
    "import seaborn as sns"
   ]
  },
  {
   "cell_type": "code",
   "execution_count": 2,
   "id": "0ae4c87d-3c8e-436d-b3e2-39b5af243fcd",
   "metadata": {},
   "outputs": [],
   "source": [
    "DATA_DIR = \"../data\"\n",
    "TICKERS = [\"SPY\", \"QQQ\", \"IWM\"]\n",
    "FEATURE_PREFIX = \"features_\"\n",
    "FEATURE_COLUMNS = [\n",
    "    \"daily_return\",\n",
    "    \"rolling_vol_5\",\n",
    "    \"sma_10\",\n",
    "    \"sma_20\",\n",
    "    \"rsi_14\",\n",
    "    \"momentum_10\",\n",
    "    \"ret_1\",\n",
    "    \"price_above_sma_10\",\n",
    "    \"bb_width\"\n",
    "]\n",
    "\n",
    "TARGET_COLUMN = \"target\""
   ]
  },
  {
   "cell_type": "code",
   "execution_count": 3,
   "id": "3f53a305-9dc4-45a3-a490-2fff66f73a97",
   "metadata": {},
   "outputs": [
    {
     "name": "stdout",
     "output_type": "stream",
     "text": [
      "✅ Combined dataset shape: (7830, 27)\n"
     ]
    }
   ],
   "source": [
    "frames= []\n",
    "\n",
    "for ticker in TICKERS:\n",
    "    path = os.path.join(DATA_DIR, f\"{FEATURE_PREFIX}{ticker}.parquet\")\n",
    "    df = pd.read_parquet(path)\n",
    "    df[\"ticker\"] = ticker\n",
    "    frames.append(df)\n",
    "\n",
    "# Detect the date-like column first\n",
    "date_col = next((col for col in frames[0].columns if col.lower().startswith(\"date\")), None)\n",
    "if date_col is None:\n",
    "    raise KeyError(f\"Could not find date column in {frames[0].columns.tolist()}\")\n",
    "\n",
    "data = pd.concat(frames).sort_values(date_col).reset_index(drop=True)\n",
    "\n",
    "print(f\"✅ Combined dataset shape: {data.shape}\")\n"
   ]
  },
  {
   "cell_type": "code",
   "execution_count": 4,
   "id": "701648fd-9a00-4e8c-842c-ec2f3712336c",
   "metadata": {},
   "outputs": [],
   "source": [
    "X = data[FEATURE_COLUMNS]\n",
    "y = data[TARGET_COLUMN]"
   ]
  },
  {
   "cell_type": "code",
   "execution_count": 5,
   "id": "f8fc63cf-ee6b-4a36-b45c-0b6507ecfa9f",
   "metadata": {},
   "outputs": [
    {
     "name": "stdout",
     "output_type": "stream",
     "text": [
      "📊 Train size: 5481 | Test size: 2349\n"
     ]
    }
   ],
   "source": [
    "X_train, X_test, y_train, y_test = train_test_split(\n",
    "    X, y, test_size=0.3, shuffle=False  # no shuffle for time series\n",
    ")\n",
    "print(f\"📊 Train size: {len(X_train)} | Test size: {len(X_test)}\")"
   ]
  },
  {
   "cell_type": "code",
   "execution_count": 6,
   "id": "bc0dd374-e78f-402c-a820-a0c4a3ba02ce",
   "metadata": {},
   "outputs": [
    {
     "name": "stdout",
     "output_type": "stream",
     "text": [
      "✅ Model trained.\n"
     ]
    }
   ],
   "source": [
    "model = RandomForestClassifier(n_estimators=100, random_state=42)\n",
    "model.fit(X_train, y_train)\n",
    "print(\"✅ Model trained.\")"
   ]
  },
  {
   "cell_type": "code",
   "execution_count": 7,
   "id": "63bba798-a22d-40e9-97d1-185ae7c90621",
   "metadata": {},
   "outputs": [
    {
     "name": "stdout",
     "output_type": "stream",
     "text": [
      "🔍 Predictions made with confidence > 0.6: 467 of 2349\n",
      "              precision    recall  f1-score   support\n",
      "\n",
      "        Down       0.46      0.79      0.58      1096\n",
      "          Up       0.50      0.19      0.27      1253\n",
      "\n",
      "    accuracy                           0.47      2349\n",
      "   macro avg       0.48      0.49      0.42      2349\n",
      "weighted avg       0.48      0.47      0.41      2349\n",
      "\n"
     ]
    }
   ],
   "source": [
    "# Predict probabilities\n",
    "probs = model.predict_proba(X_test)[:, 1]\n",
    "\n",
    "# Filter: only predict if confidence is high\n",
    "threshold = 0.6\n",
    "confident_preds = (probs > threshold).astype(int)\n",
    "\n",
    "print(f\"🔍 Predictions made with confidence > {threshold}: {(probs > threshold).sum()} of {len(probs)}\")\n",
    "\n",
    "from sklearn.metrics import classification_report\n",
    "print(classification_report(y_test, confident_preds, target_names=[\"Down\", \"Up\"]))\n"
   ]
  },
  {
   "cell_type": "code",
   "execution_count": 8,
   "id": "8db627ee-d2fb-44e6-920c-d1f7774fcb55",
   "metadata": {},
   "outputs": [
    {
     "ename": "NameError",
     "evalue": "name 'y_pred' is not defined",
     "output_type": "error",
     "traceback": [
      "\u001b[0;31m---------------------------------------------------------------------------\u001b[0m",
      "\u001b[0;31mNameError\u001b[0m                                 Traceback (most recent call last)",
      "Cell \u001b[0;32mIn[8], line 1\u001b[0m\n\u001b[0;32m----> 1\u001b[0m cm \u001b[38;5;241m=\u001b[39m confusion_matrix(y_test, y_pred)\n\u001b[1;32m      2\u001b[0m sns\u001b[38;5;241m.\u001b[39mheatmap(cm, annot\u001b[38;5;241m=\u001b[39m\u001b[38;5;28;01mTrue\u001b[39;00m, fmt\u001b[38;5;241m=\u001b[39m\u001b[38;5;124m\"\u001b[39m\u001b[38;5;124md\u001b[39m\u001b[38;5;124m\"\u001b[39m, cmap\u001b[38;5;241m=\u001b[39m\u001b[38;5;124m\"\u001b[39m\u001b[38;5;124mBlues\u001b[39m\u001b[38;5;124m\"\u001b[39m, xticklabels\u001b[38;5;241m=\u001b[39m[\u001b[38;5;124m\"\u001b[39m\u001b[38;5;124mDown\u001b[39m\u001b[38;5;124m\"\u001b[39m, \u001b[38;5;124m\"\u001b[39m\u001b[38;5;124mUp\u001b[39m\u001b[38;5;124m\"\u001b[39m], yticklabels\u001b[38;5;241m=\u001b[39m[\u001b[38;5;124m\"\u001b[39m\u001b[38;5;124mDown\u001b[39m\u001b[38;5;124m\"\u001b[39m, \u001b[38;5;124m\"\u001b[39m\u001b[38;5;124mUp\u001b[39m\u001b[38;5;124m\"\u001b[39m])\n\u001b[1;32m      3\u001b[0m plt\u001b[38;5;241m.\u001b[39mtitle(\u001b[38;5;124m\"\u001b[39m\u001b[38;5;124mConfusion Matrix\u001b[39m\u001b[38;5;124m\"\u001b[39m)\n",
      "\u001b[0;31mNameError\u001b[0m: name 'y_pred' is not defined"
     ]
    }
   ],
   "source": [
    "cm = confusion_matrix(y_test, confident_preds)\n",
    "sns.heatmap(cm, annot=True, fmt=\"d\", cmap=\"Blues\", xticklabels=[\"Down\", \"Up\"], yticklabels=[\"Down\", \"Up\"])\n",
    "plt.title(\"Confusion Matrix\")\n",
    "plt.xlabel(\"Predicted\")\n",
    "plt.ylabel(\"Actual\")\n",
    "plt.show()"
   ]
  },
  {
   "cell_type": "code",
   "execution_count": 22,
   "id": "905724b8-6f31-4b2d-a0e6-17d100477645",
   "metadata": {},
   "outputs": [
    {
     "name": "stdout",
     "output_type": "stream",
     "text": [
      "💾 Model saved to data/rf_model.pkl\n"
     ]
    }
   ],
   "source": [
    "joblib.dump(model, os.path.join(DATA_DIR, \"rf_model.pkl\"))\n",
    "print(\"💾 Model saved to data/rf_model.pkl\")"
   ]
  },
  {
   "cell_type": "code",
   "execution_count": null,
   "id": "bd77fab0-c927-4f22-b8d8-3c0bd152193f",
   "metadata": {},
   "outputs": [],
   "source": []
  }
 ],
 "metadata": {
  "kernelspec": {
   "display_name": "Python [conda env:base] *",
   "language": "python",
   "name": "conda-base-py"
  },
  "language_info": {
   "codemirror_mode": {
    "name": "ipython",
    "version": 3
   },
   "file_extension": ".py",
   "mimetype": "text/x-python",
   "name": "python",
   "nbconvert_exporter": "python",
   "pygments_lexer": "ipython3",
   "version": "3.11.7"
  }
 },
 "nbformat": 4,
 "nbformat_minor": 5
}
